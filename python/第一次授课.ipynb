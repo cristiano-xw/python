{
 "cells": [
  {
   "cell_type": "markdown",
   "metadata": {},
   "source": [
    "## 类\n",
    "\n",
    "    简单的说，类是对象的蓝图和模板，而对象是类的实例。这个解释虽然有点像用概念在解释概念，但是从这句话我们至少可以看出，类是抽象的概念，而对象是具体的东西。在面向对象编程的世界中，一切皆为对象，对象都有属性和行为，每个对象都是独一无二的，而且对象一定属于某个类（型）。当我们把一大堆拥有共同特征的对象的静态特征（属性）和动态特征（行为）都抽取出来后，就可以定义出一个叫做“类”的东西。\n",
    "\n",
    "\n",
    "### 定义一个类\n",
    "\n",
    "首先，我们来学习怎么定义一个类"
   ]
  },
  {
   "cell_type": "code",
   "execution_count": null,
   "metadata": {},
   "outputs": [],
   "source": [
    "class Student(object):\n",
    "    \n",
    "    school = 'scu';\n",
    "    # __init__是一个特殊方法用于在创建对象时进行初始化操作,可以理解为C++ 中的构造函数\n",
    "    def __init__(self, name, age):\n",
    "        self.name = name\n",
    "        self.age = age\n",
    "        \n",
    "    def welcome(self):\n",
    "        print('welcome to RC!')\n",
    "    \n",
    "    def study(self, course_name):\n",
    "        print('%s正在学习%s.' % (self.name, course_name))"
   ]
  },
  {
   "cell_type": "markdown",
   "metadata": {},
   "source": [
    "类定义与函数定义 (def 语句) 一样必须被执行才会起作用。\n",
    "\n",
    "### 创建和使用对象\n",
    "\n",
    "定义完之后要做的就是**实例化**这个类，也就是生成一个**对象**。"
   ]
  },
  {
   "cell_type": "code",
   "execution_count": null,
   "metadata": {},
   "outputs": [],
   "source": [
    "# 创建一个对象\n",
    "Stu = Student('jyb',21)\n",
    "\n",
    "# 属性引用\n",
    "print(Stu.name)\n",
    "print(Stu.school)\n",
    "\n",
    "# 调用方法\n",
    "Stu.welcome()\n",
    "\n",
    "# 简化方法\n",
    "wel = Stu.welcome\n",
    "\n",
    "wel()\n",
    "\n",
    "Stu.study('python')"
   ]
  },
  {
   "cell_type": "markdown",
   "metadata": {},
   "source": [
    "上述代码我们创建了一个对象，同时打印了他的其中两个属性，其中school是一个类属型，也就是所有对象共享的。\n",
    "\n",
    "值得注意的是，上述代码中方法的使用，我们明明在类的定义中定义函数时函数中传入了形参self，那么为什么我们在调用的时候却不会报错呢？\n",
    "\n",
    "self在定义类时代表的是实例本身，也就是调用这个方法的时候默认会将该对象传入函数中。\n",
    "\n",
    "**所以Stu.welcome()就相当于Student.welcome(Stu)**\n",
    "\n",
    "这里需要补充的是，写在类中的函数，我们通常称之为（对象的）方法，就是C++中我们的成员函数。\n",
    "\n",
    "### 访问可见性问题\n",
    "\n",
    "熟悉其他编程语言的大伙可能这时候会产生一个很关键的问题，我们的name和age属性究竟是什么访问权限呢？\n",
    "\n",
    "public？private？protected？\n",
    "\n",
    "实际上，python中只有两种访问权限，public和private，默认的都是public\n",
    "\n",
    "那么如何定义一个私有变量呢？\n",
    "\n",
    "请注意：**那种仅限从一个对象内部访问的“私有”实例变量在 Python 中并不存在。**\n",
    "\n",
    "但我们有一种方法可以对此实现有限的支持。"
   ]
  },
  {
   "cell_type": "code",
   "execution_count": null,
   "metadata": {},
   "outputs": [],
   "source": [
    "class Student(object):\n",
    "    # __init__是一个特殊方法用于在创建对象时进行初始化操作,可以理解为C++ 中的构造函数\n",
    "    def __init__(self, name, age):\n",
    "        self.name = name\n",
    "        self.__age = age\n",
    "        \n",
    "    def welcome(self):\n",
    "        print('welcome to RC!')\n",
    "    \n",
    "    def study(self, course_name):\n",
    "        print('%s正在学习%s.' % (self.name, course_name))\n",
    "        \n",
    "Stu = Student('jyb',21)\n",
    "\n",
    "# print(Stu.__age)\n",
    "\n",
    "print(Stu._Student__age)"
   ]
  },
  {
   "cell_type": "markdown",
   "metadata": {},
   "source": [
    "可以看到，我们通常可以在变量前加__来声明为私有变量，但是这只是一种改名机制。\n",
    "\n",
    "    任何形式为 __spam 的标识符（至少带有两个前缀下划线，至多一个后缀下划线）的文本将被替换为 _classname__spam，其中 classname 为去除了前缀下划线的当前类名称。 这种改写不考虑标识符的句法位置，只要它出现在类定义内部就会进行。\n",
    "\n",
    "### 静态方法\n",
    "\n",
    "静态方法不受限于对象的创建，没有对象也可以调用\n"
   ]
  },
  {
   "cell_type": "code",
   "execution_count": null,
   "metadata": {},
   "outputs": [],
   "source": [
    "class Student(object):\n",
    "    # __init__是一个特殊方法用于在创建对象时进行初始化操作,可以理解为C++ 中的构造函数\n",
    "    def __init__(self, name, age):\n",
    "        self.name = name\n",
    "        self.age = age\n",
    "        \n",
    "    @staticmethod\n",
    "    def welcome():\n",
    "        print('welcome to RC!')\n",
    "    \n",
    "    def study(self, course_name):\n",
    "        print('%s正在学习%s.' % (self.name, course_name))\n",
    "\n",
    "Student.welcome()\n",
    "\n",
    "Stu = Student('jyb',21)\n",
    "\n",
    "Stu.welcome()"
   ]
  },
  {
   "cell_type": "markdown",
   "metadata": {},
   "source": [
    "实际的应用如下：\n",
    "``` python\n",
    "if Triangle.is_valid(a, b, c):\n",
    "    t = Triangle(a, b, c)\n",
    "```\n",
    "\n",
    "### 继承和多态\n",
    "\n",
    "    刚才我们提到了，可以在已有类的基础上创建新类，这其中的一种做法就是让一个类从另一个类那里将属性和方法直接继承下来，从而减少重复代码的编写。提供继承信息的我们称之为父类，也叫超类或基类；得到继承信息的我们称之为子类，也叫派生类或衍生类。子类除了继承父类提供的属性和方法，还可以定义自己特有的属性和方法，所以子类比父类拥有的更多的能力，在实际开发中，我们经常会用子类对象去替换掉一个父类对象，这是面向对象编程中一个常见的行为，对应的原则称之为里氏替换原则。下面我们先看一个继承的例子。\n",
    "    "
   ]
  },
  {
   "cell_type": "code",
   "execution_count": null,
   "metadata": {},
   "outputs": [],
   "source": [
    "class Student(object):\n",
    "    \n",
    "    school = 'scu';\n",
    "    # __init__是一个特殊方法用于在创建对象时进行初始化操作,可以理解为C++ 中的构造函数\n",
    "    def __init__(self, name, age):\n",
    "        self.name = name\n",
    "        self.age = age\n",
    "    \n",
    "    def study(self):\n",
    "        print('%s正在学习高等数学.' % (self.name))\n",
    "        \n",
    "class Student_CS(Student):\n",
    "    def __init__(self,name,age,course):\n",
    "        # super()代表调用父类\n",
    "        super().__init__(name,age)\n",
    "        self.course = course\n",
    "    \n",
    "    def study(self):\n",
    "        print('%s正在学习%s.' % (self.name,self.course))\n",
    "    \n",
    "    def review(self):\n",
    "        print('%s正在复习高等数学.' % (self.name))\n",
    "        \n",
    "Stu = Student('jyb',21)\n",
    "\n",
    "Stu_CS = Student_CS('hxk',21,'操作系统')\n",
    "\n",
    "Stu.study()\n",
    "\n",
    "Stu_CS.study()\n",
    "\n",
    "Stu_CS.review()"
   ]
  },
  {
   "cell_type": "markdown",
   "metadata": {},
   "source": [
    "    子类在继承了父类的方法后，可以对父类已有的方法给出新的实现版本，这个动作称之为方法重写（override）。通过方法重写我们可以让父类的同一个行为在子类中拥有不同的实现版本，当我们调用这个经过子类重写的方法时，不同的子类对象会表现出不同的行为，这个就是多态（poly-morphism）。"
   ]
  },
  {
   "cell_type": "code",
   "execution_count": null,
   "metadata": {},
   "outputs": [],
   "source": [
    "class LeNet(nn.Module):\n",
    "    def __init__(self):\n",
    "        super().__init__()\n",
    "        self.conv = nn.Sequential(\n",
    "            nn.Conv2d(1, 6, 5), # in_channels, out_channels, kernel_size\n",
    "            nn.Sigmoid(),\n",
    "            nn.MaxPool2d(2, 2), # kernel_size, stride\n",
    "            nn.Conv2d(6, 16, 5),\n",
    "            nn.Sigmoid(),\n",
    "            nn.MaxPool2d(2, 2)\n",
    "        )\n",
    "        self.fc = nn.Sequential(\n",
    "            nn.Linear(16*4*4, 120),\n",
    "            nn.Sigmoid(),\n",
    "            nn.Linear(120, 84),\n",
    "            nn.Sigmoid(),\n",
    "            nn.Linear(84, 10)\n",
    "        )"
   ]
  },
  {
   "cell_type": "markdown",
   "metadata": {},
   "source": [
    "### 装饰器\n",
    "\n",
    "#### 闭包\n",
    "\n",
    "python的闭包从表现形式上可以定义为：如果在一个内部函数里，对在外部作用域的变量进行引用，并且外部函数将此内部函数作为返回值，那么这个内部函数就是闭包"
   ]
  },
  {
   "cell_type": "code",
   "execution_count": null,
   "metadata": {},
   "outputs": [],
   "source": [
    "def addx(x):\n",
    "    def adder(y):\n",
    "        return x+y\n",
    "    return adder\n",
    "\n",
    "c = addx(8)\n",
    "\n",
    "print(c(10))"
   ]
  },
  {
   "cell_type": "markdown",
   "metadata": {},
   "source": [
    "上面的代码中adder就是一个闭包\n",
    "|\n",
    "开始时调用先执行addx（8）对x进行赋值，赋值为8，然后调用C=adder(10),y=10返回值就是18\n",
    "\n",
    "使用闭包可以简化程序，比如我们要定义直线y=kx+b"
   ]
  },
  {
   "cell_type": "code",
   "execution_count": null,
   "metadata": {},
   "outputs": [],
   "source": [
    "def line_conf(a,b):\n",
    "    def line(x):\n",
    "        return ax+b\n",
    "    return line\n",
    "line_a = line_conf(1,2)\n"
   ]
  },
  {
   "cell_type": "markdown",
   "metadata": {},
   "source": [
    "#### 装饰器的概念和使用\n",
    "比如通过闭包来计算时间"
   ]
  },
  {
   "cell_type": "code",
   "execution_count": null,
   "metadata": {},
   "outputs": [],
   "source": [
    "import time\n",
    "\n",
    "def timer(func):\n",
    "    def deco():\n",
    "        start = time.time()\n",
    "        func()\n",
    "        stop = time.time()\n",
    "        print(stop-start)\n",
    "    return deco\n",
    "\n",
    "def test():\n",
    "    time.sleep(2)\n",
    "    print(\"测试程序\")\n",
    "\n",
    "test = timer(test)\n",
    "test()"
   ]
  },
  {
   "cell_type": "markdown",
   "metadata": {},
   "source": [
    "这时每计算一个函数的时间，我们都要定义一个test = timer(test)\n",
    "这时就引入了装饰器"
   ]
  },
  {
   "cell_type": "code",
   "execution_count": null,
   "metadata": {},
   "outputs": [],
   "source": [
    "import time\n",
    "\n",
    "def timer(func):\n",
    "    def deco():\n",
    "        start = time.time()\n",
    "        func()\n",
    "        stop = time.time()\n",
    "        print(stop-start)\n",
    "    return deco\n",
    "\n",
    "@timer\n",
    "def test():\n",
    "    time.sleep(2)\n",
    "    print(\"测试程序\")\n",
    "\n",
    "test()"
   ]
  },
  {
   "cell_type": "code",
   "execution_count": null,
   "metadata": {},
   "outputs": [],
   "source": [
    "@csrf_exempt\n",
    "@require_POST\n",
    "def compute(request):\n",
    "    code = request.POST.get('code')\n",
    "    result = run_code(code)\n",
    "    return JsonResponse(data={'result':result})"
   ]
  },
  {
   "cell_type": "markdown",
   "metadata": {},
   "source": [
    "### 进程与线程\n",
    "\n",
    "首先是为什么要有线程与进程？是由于IO指令与计算指令相差时间较大所以引入的。\n",
    "\n",
    "    进程就是操作系统中执行的一个程序，操作系统以进程为单位分配存储空间，每个进程都有自己的地址空间、数据栈以及其他用于跟踪进程执行的辅助数据，操作系统管理所有进程的执行，为它们合理的分配资源。进程可以通过fork或spawn的方式来创建新的进程来执行其他的任务，不过新的进程也有自己独立的内存空间，因此必须通过进程间通信机制（IPC，Inter-Process Communication）来实现数据共享，具体的方式包括管道、信号、套接字、共享内存区等。\n",
    "    \n",
    "    一个进程还可以拥有多个并发的执行线索，简单的说就是拥有多个可以获得CPU调度的执行单元，这就是所谓的线程。由于线程在同一个进程下，它们可以共享相同的上下文，因此相对于进程而言，线程间的信息共享和通信更加容易。当然在单核CPU系统中，真正的并发是不可能的，因为在某个时刻能够获得CPU的只有唯一的一个线程，多个线程共享了CPU的执行时间。使用多线程实现并发编程为程序带来的好处是不言而喻的，最主要的体现在提升程序的性能和改善用户体验，今天我们使用的软件几乎都用到了多线程技术，这一点可以利用系统自带的进程监控工具（如macOS中的“活动监视器”、Windows中的“任务管理器”）来证实，如下图所示。\n",
    "\n"
   ]
  },
  {
   "cell_type": "code",
   "execution_count": null,
   "metadata": {},
   "outputs": [],
   "source": [
    "from multiprocessing import Process\n",
    "from os import getpid\n",
    "from random import randint\n",
    "from time import time, sleep\n",
    "\n",
    "\n",
    "def deposit(person):\n",
    "    print('%s 开始存钱' % person )\n",
    "    time_to_deposit = randint(5, 10)\n",
    "    sleep(time_to_deposit)\n",
    "    print('%s存钱完成! 耗费了%d秒' % (person, time_to_deposit))\n",
    "\n",
    "\n",
    "def main():\n",
    "    start = time()\n",
    "    p1 = Process(target=download_task, args=('jyb', ))\n",
    "    p1.start()\n",
    "    p2 = Process(target=download_task, args=('hxk', ))\n",
    "    p2.start()\n",
    "    p1.join()\n",
    "    p2.join()\n",
    "    end = time()\n",
    "    print('总共耗费了%.2f秒.' % (end - start))\n",
    "\n",
    "\n",
    "if __name__ == '__main__':\n",
    "    main()"
   ]
  },
  {
   "cell_type": "code",
   "execution_count": null,
   "metadata": {},
   "outputs": [],
   "source": [
    "from random import randint\n",
    "from threading import Thread\n",
    "from time import time, sleep\n",
    "\n",
    "\n",
    "def deposit(person):\n",
    "    print('%s 开始存钱\\n' % person )\n",
    "    time_to_deposit = randint(5, 10)\n",
    "    sleep(time_to_deposit)\n",
    "    print('%s存钱完成! 耗费了%d秒' % (person, time_to_deposit))\n",
    "\n",
    "\n",
    "def main():\n",
    "    start = time()\n",
    "    t1 = Thread(target=deposit, args=('jyb',))\n",
    "    t1.start()\n",
    "    t2 = Thread(target=deposit, args=('hxk',))\n",
    "    t2.start()\n",
    "    t1.join()\n",
    "    t2.join()\n",
    "    end = time()\n",
    "    print('总共耗费了%.3f秒' % (end - start))\n",
    "\n",
    "\n",
    "if __name__ == '__main__':\n",
    "    main()"
   ]
  },
  {
   "cell_type": "markdown",
   "metadata": {},
   "source": [
    "上述代码中，我们使用了Thread类来创建线程对象，然后start方法启动线程，join方法则是用于线程之间的时序问题，比如我在A线程中调用了B线程的join方法，那么A线程就会阻塞在此处等待B线程运行完成后进行下一步操作。所以当我们在主程序中使用这两个方法时，主线程就会阻塞等待两个线程进行完成在进行下一步操作。\n",
    "\n",
    "### 共享数据的访问控制\n",
    "\n",
    "假如还是存钱问题，这时候有很多人往同一个账户里存钱，我们先看第一个程序的结果"
   ]
  },
  {
   "cell_type": "code",
   "execution_count": null,
   "metadata": {},
   "outputs": [],
   "source": [
    "from random import randint\n",
    "from threading import Thread\n",
    "from time import time, sleep\n",
    "\n",
    "    \n",
    "account = 0\n",
    "\n",
    "def deposit(person,money):\n",
    "    global account\n",
    "    acc = account\n",
    "    sleep(0.1)\n",
    "    account = acc + money\n",
    "    print('子线程%d结束 ' % person)\n",
    "\n",
    "\n",
    "\n",
    "theadlist = []\n",
    "for idx in range(10):\n",
    "    thread = Thread(target = deposit,args = (idx,1))\n",
    "    thread.start()\n",
    "    theadlist.append(thread)\n",
    "\n",
    "for thread in theadlist:\n",
    "    thread.join()\n",
    "\n",
    "print('主线程结束')\n",
    "print('最后我们的账号余额为 %d' % account)\n"
   ]
  },
  {
   "cell_type": "code",
   "execution_count": null,
   "metadata": {},
   "outputs": [],
   "source": [
    "from random import randint\n",
    "from threading import Thread,Lock\n",
    "from time import time, sleep\n",
    "\n",
    "    \n",
    "account = 0\n",
    "\n",
    "depolock = Lock()\n",
    "\n",
    "def deposit(person,money):\n",
    "    global account\n",
    "    depolock.acquire()\n",
    "    acc = account\n",
    "    sleep(0.1)\n",
    "    account = acc + money\n",
    "    print('子线程%d结束 ' % person)\n",
    "    depolock.release()\n",
    "\n",
    "\n",
    "theadlist = []\n",
    "for idx in range(10):\n",
    "    thread = Thread(target = deposit,args = (idx,1))\n",
    "    thread.start()\n",
    "    theadlist.append(thread)\n",
    "\n",
    "for thread in theadlist:\n",
    "    thread.join()\n",
    "\n",
    "print('主线程结束')\n",
    "print('最后我们的账号余额为 %d' % account)"
   ]
  },
  {
   "cell_type": "code",
   "execution_count": null,
   "metadata": {},
   "outputs": [],
   "source": [
    "from random import randint\n",
    "from threading import Thread,Semaphore\n",
    "from time import time, sleep\n",
    "\n",
    "    \n",
    "account = 0\n",
    "\n",
    "depolock = Semaphore(1)\n",
    "\n",
    "def deposit(person,money):\n",
    "    global account\n",
    "    depolock.acquire()\n",
    "    acc = account\n",
    "    sleep(0.1)\n",
    "    account = acc + money\n",
    "    print('子线程%d结束 ' % person)\n",
    "    depolock.release()\n",
    "\n",
    "\n",
    "theadlist = []\n",
    "for idx in range(10):\n",
    "    thread = Thread(target = deposit,args = (idx,1))\n",
    "    thread.start()\n",
    "    theadlist.append(thread)\n",
    "\n",
    "for thread in theadlist:\n",
    "    thread.join()\n",
    "\n",
    "print('主线程结束')\n",
    "print('最后我们的账号余额为 %d' % account)"
   ]
  }
 ],
 "metadata": {
  "kernelspec": {
   "display_name": "Python 3",
   "language": "python",
   "name": "python3"
  },
  "language_info": {
   "codemirror_mode": {
    "name": "ipython",
    "version": 3
   },
   "file_extension": ".py",
   "mimetype": "text/x-python",
   "name": "python",
   "nbconvert_exporter": "python",
   "pygments_lexer": "ipython3",
   "version": "3.8.3"
  }
 },
 "nbformat": 4,
 "nbformat_minor": 4
}
